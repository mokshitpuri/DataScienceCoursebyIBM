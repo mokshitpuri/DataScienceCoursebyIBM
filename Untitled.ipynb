{
 "cells": [
  {
   "cell_type": "markdown",
   "id": "7a9ee28e-cff2-4e83-bdf2-83078cd70790",
   "metadata": {},
   "source": [
    "# PEER GRADED ASSIGNMENT"
   ]
  },
  {
   "cell_type": "markdown",
   "id": "510e34d0-5a24-4091-a273-e2436d20b0f4",
   "metadata": {},
   "source": [
    "<b>Mokshit Puri </b>\n",
    "\n",
    "Computer Engineering Student\n",
    "\n",
    "I am interested in data science because I love telling stories with data and using data to help bring that data to life.I love helping others. In data science that could be helping a business understand its customers or improving the way it uses its customer data."
   ]
  },
  {
   "cell_type": "markdown",
   "id": "6adff479-a272-40e7-8658-6fb3aa1896ce",
   "metadata": {},
   "source": [
    "## List of Data Science Languages\n",
    "* Python\n",
    "* R\n",
    "* SQL\n",
    "* Java\n",
    "* Julia\n",
    "* Scala\n",
    "* C/C++\n",
    "* JavaScript\n",
    "* Swift\n",
    "* Go\n",
    "* MATLAB\n",
    "* SAS"
   ]
  },
  {
   "cell_type": "code",
   "execution_count": null,
   "id": "9f8bb081-76cf-4e26-8e63-c6c1ad3a6dbe",
   "metadata": {},
   "outputs": [],
   "source": []
  },
  {
   "cell_type": "code",
   "execution_count": null,
   "id": "8a457367-c5a4-4228-8c30-a64a48ad4c7a",
   "metadata": {},
   "outputs": [],
   "source": []
  },
  {
   "cell_type": "markdown",
   "id": "1612ff27-378a-4b4e-8a1a-274f73f72b90",
   "metadata": {},
   "source": [
    "## List of Data Science Libraries\n",
    "\n",
    "* TensorFlow\n",
    "* NumPy\n",
    "* SciPy \n",
    "* Pandas\n",
    "* Matplotlib \n",
    "* Keras\n",
    "* SciKit-Learn\n",
    "* PyTorch\n",
    "* Scrapy\n",
    "* BeautifulSoup\n",
    "* LightGBM\n",
    "* ELI5\n",
    "* Theano\n",
    "* NuPIC\n",
    "* penv\n",
    "* Bob\n",
    "* PyBrain\n",
    "* Caffe2\n",
    "* Chainer"
   ]
  },
  {
   "cell_type": "markdown",
   "id": "272eed40-c8e6-494c-b09c-e7138ae7ac5a",
   "metadata": {},
   "source": []
  },
  {
   "cell_type": "code",
   "execution_count": null,
   "id": "c3a06d81-e31c-416a-ba96-0067b10f15a2",
   "metadata": {},
   "outputs": [],
   "source": []
  },
  {
   "cell_type": "markdown",
   "id": "9cc2aa1b-a0d0-4196-a8f6-283d002bc931",
   "metadata": {},
   "source": [
    "| Data Science Tools  |\n",
    "|:--------:|\n",
    "| SAS. It is one of those data science tools which are specifically designed for statistical operation\t   | \n",
    "|  Apache Spark |\n",
    "| BigML  |"
   ]
  },
  {
   "cell_type": "code",
   "execution_count": null,
   "id": "883c4f55-aa18-42b0-b01f-c26bdedfc49e",
   "metadata": {},
   "outputs": [],
   "source": []
  },
  {
   "cell_type": "markdown",
   "id": "51da836d-fac5-4d4c-af1f-4a7ef9cd9c82",
   "metadata": {},
   "source": [
    "## Below are a few examples of evaluating arithmetic expressions in Python"
   ]
  },
  {
   "cell_type": "code",
   "execution_count": 4,
   "id": "6d4c7f5b-a5b3-44f1-a0b4-ca02fb5ef27a",
   "metadata": {},
   "outputs": [
    {
     "data": {
      "text/plain": [
       "9"
      ]
     },
     "execution_count": 4,
     "metadata": {},
     "output_type": "execute_result"
    }
   ],
   "source": [
    "# Arithmetic operations\n",
    "code = compile(\"5 + 4\", \"<string>\", \"eval\")\n",
    "eval(code)\n",
    "# Result: 9"
   ]
  },
  {
   "cell_type": "code",
   "execution_count": 5,
   "id": "cfc6728c-1ed0-4adf-bcf9-b8e75c4b43e3",
   "metadata": {},
   "outputs": [
    {
     "data": {
      "text/plain": [
       "24"
      ]
     },
     "execution_count": 5,
     "metadata": {},
     "output_type": "execute_result"
    }
   ],
   "source": [
    "code1 = compile(\"(5 + 7) * 2\", \"<string>\", \"eval\")\n",
    "eval(code1)\n",
    "# Result: 24"
   ]
  },
  {
   "cell_type": "code",
   "execution_count": 6,
   "id": "e322a2c4-5856-4bfe-b523-1802b304f900",
   "metadata": {},
   "outputs": [
    {
     "data": {
      "text/plain": [
       "65449.84694978735"
      ]
     },
     "execution_count": 6,
     "metadata": {},
     "output_type": "execute_result"
    }
   ],
   "source": [
    "import math\n",
    "# Volume of a sphere\n",
    "code2 = compile(\"4 / 3 * math.pi * math.pow(25, 3)\", \"<string>\", \"eval\")\n",
    "eval(code2)\n",
    "# Result: 65449.84694978735"
   ]
  },
  {
   "cell_type": "code",
   "execution_count": null,
   "id": "50d433d1-e20d-437f-a115-e547bd7015d1",
   "metadata": {},
   "outputs": [],
   "source": []
  },
  {
   "cell_type": "markdown",
   "id": "5886b9ef-cab5-47b0-8238-aab8b9e3701d",
   "metadata": {},
   "source": [
    "This a simple arithmetic expression to mutiply then add integers"
   ]
  },
  {
   "cell_type": "code",
   "execution_count": 8,
   "id": "7fcdeb2c-3ca4-4035-adac-e74887000658",
   "metadata": {},
   "outputs": [
    {
     "data": {
      "text/plain": [
       "17"
      ]
     },
     "execution_count": 8,
     "metadata": {},
     "output_type": "execute_result"
    }
   ],
   "source": [
    "(3*4)+5\n",
    "# Result: 17"
   ]
  },
  {
   "cell_type": "code",
   "execution_count": null,
   "id": "8ede7ef5-1b11-4c16-afa5-5e8dfacedcb6",
   "metadata": {},
   "outputs": [],
   "source": []
  },
  {
   "cell_type": "code",
   "execution_count": null,
   "id": "faf6d85b-daeb-45f5-a995-80c0863b65f5",
   "metadata": {},
   "outputs": [],
   "source": []
  },
  {
   "cell_type": "markdown",
   "id": "07596111-608f-4fe7-9af9-1b11a88d3c78",
   "metadata": {},
   "source": [
    "This will convert 200 minutes to hours by diving by 60"
   ]
  },
  {
   "cell_type": "raw",
   "id": "cf580e9d-7bcf-4552-b8ed-aef91451c8dd",
   "metadata": {},
   "source": [
    "days = 0\n",
    "hours = 0\n",
    "mins = 0\n",
    "\n",
    "time = 200\n",
    "#days = time / 1440\n",
    "leftover_minutes = time % 1440\n",
    "hours = leftover_minutes / 60\n",
    "#mins = time - (days*1440) - (hours*60)\n",
    "print(str(days) + \" days, \" + str(hours) + \" hours, \" + str(mins) +  \" mins. \")\n",
    "\n",
    "# Result: 3.3333333333333335 hours"
   ]
  },
  {
   "cell_type": "code",
   "execution_count": null,
   "id": "15c65982-9747-4351-bf46-f1dd298141f6",
   "metadata": {},
   "outputs": [],
   "source": []
  },
  {
   "cell_type": "markdown",
   "id": "8129f145-40e8-4855-b119-e3651c43a22f",
   "metadata": {},
   "source": [
    "Exercise 10 -Insert a markdown cell to list Objectives."
   ]
  },
  {
   "cell_type": "markdown",
   "id": "32ecf4c5-cc9e-4f47-b052-e688ca0b3774",
   "metadata": {},
   "source": [
    "Below the introduction cell created in Exercise 3, insert a new markdown cell to list the objectives that this notebook covered (i.e. some of the key takeaways from the course). In this new cell start with an introductory line titled: Objectives: in bold font. Then using an unordered list (bullets) indicate 3 to 5 items covered in this notebook, such as List popular languages for Data Science."
   ]
  },
  {
   "cell_type": "code",
   "execution_count": null,
   "id": "3d4faff1-6c97-41cc-afcc-89974fa2a897",
   "metadata": {},
   "outputs": [],
   "source": []
  },
  {
   "cell_type": "code",
   "execution_count": null,
   "id": "b5a53deb-6af6-4d63-b1f3-89adc24ef739",
   "metadata": {},
   "outputs": [],
   "source": []
  },
  {
   "cell_type": "markdown",
   "id": "e6968563-3f27-4042-9154-e5c3893cf350",
   "metadata": {},
   "source": [
    "# Author:"
   ]
  },
  {
   "cell_type": "markdown",
   "id": "6c958d96-d41c-4e2e-99f8-e14834053f58",
   "metadata": {},
   "source": [
    "# Mokshit Puri"
   ]
  },
  {
   "cell_type": "code",
   "execution_count": null,
   "id": "4cb48579-072b-4b91-bc82-a717541af2ba",
   "metadata": {},
   "outputs": [],
   "source": []
  }
 ],
 "metadata": {
  "kernelspec": {
   "display_name": "Python 3 (ipykernel)",
   "language": "python",
   "name": "python3"
  },
  "language_info": {
   "codemirror_mode": {
    "name": "ipython",
    "version": 3
   },
   "file_extension": ".py",
   "mimetype": "text/x-python",
   "name": "python",
   "nbconvert_exporter": "python",
   "pygments_lexer": "ipython3",
   "version": "3.12.2"
  }
 },
 "nbformat": 4,
 "nbformat_minor": 5
}
